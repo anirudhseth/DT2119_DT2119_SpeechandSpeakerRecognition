{
 "cells": [
  {
   "cell_type": "code",
   "execution_count": 7,
   "metadata": {},
   "outputs": [],
   "source": [
    "import numpy as np\n",
    "import itertools\n",
    "from sklearn.metrics import accuracy_score"
   ]
  },
  {
   "cell_type": "code",
   "execution_count": 8,
   "metadata": {},
   "outputs": [],
   "source": [
    "pred=np.load('predictions.npy')\n",
    "StateList=np.load('StateList.npy')\n",
    "true=np.load('test_target_dynamic.npy',allow_pickle=True)"
   ]
  },
  {
   "cell_type": "code",
   "execution_count": 9,
   "metadata": {},
   "outputs": [],
   "source": [
    "true=np.asarray(list(itertools.chain.from_iterable(true)))"
   ]
  },
  {
   "cell_type": "code",
   "execution_count": 10,
   "metadata": {},
   "outputs": [],
   "source": [
    "pred=np.argmax(pred,axis=1)"
   ]
  },
  {
   "cell_type": "code",
   "execution_count": 11,
   "metadata": {},
   "outputs": [],
   "source": [
    "predictions_states = [StateList[int(state)].split('_')[0] for state in pred]"
   ]
  },
  {
   "cell_type": "code",
   "execution_count": 12,
   "metadata": {},
   "outputs": [],
   "source": [
    "true_states = [StateList[int(state)].split('_')[0] for state in true]"
   ]
  },
  {
   "cell_type": "code",
   "execution_count": 13,
   "metadata": {},
   "outputs": [
    {
     "output_type": "stream",
     "name": "stdout",
     "text": "0.126386638672995\n"
    }
   ],
   "source": [
    "import distance\n",
    "dist = 0\n",
    "for i in range(len(true_states)):\n",
    "    dist += distance.nlevenshtein(predictions_states[i], true_states[i])\n",
    "print(dist/len(predictions_states))"
   ]
  },
  {
   "cell_type": "code",
   "execution_count": 14,
   "metadata": {},
   "outputs": [
    {
     "output_type": "stream",
     "name": "stdout",
     "text": "Frame-by-frame at the phoneme level:  85.71394892253771 %\n"
    }
   ],
   "source": [
    "acc = accuracy_score(true_states, predictions_states)\n",
    "print('Frame-by-frame at the phoneme level: ', acc * 100, '%')"
   ]
  },
  {
   "cell_type": "code",
   "execution_count": 15,
   "metadata": {},
   "outputs": [],
   "source": [
    "predictions_states = [StateList[int(state)].split('_')[0] for state in pred]\n",
    "true_states = [StateList[int(state)].split('_')[0] for state in true]\n",
    "\n",
    "predictions_states_merged = [k for k, g in itertools.groupby(predictions_states)]\n",
    "true_states_merged = [k for k, g in itertools.groupby(true_states)]"
   ]
  },
  {
   "cell_type": "code",
   "execution_count": 16,
   "metadata": {},
   "outputs": [
    {
     "output_type": "stream",
     "name": "stdout",
     "text": "0.9025463847602703\n"
    }
   ],
   "source": [
    "import distance\n",
    "dist = 0\n",
    "for i in range(len(true_states_merged)):\n",
    "    dist += distance.nlevenshtein(predictions_states_merged[i], true_states_merged[i])\n",
    "print(dist/len(true_states_merged))"
   ]
  },
  {
   "cell_type": "code",
   "execution_count": null,
   "metadata": {},
   "outputs": [],
   "source": []
  }
 ],
 "metadata": {
  "language_info": {
   "codemirror_mode": {
    "name": "ipython",
    "version": 3
   },
   "file_extension": ".py",
   "mimetype": "text/x-python",
   "name": "python",
   "nbconvert_exporter": "python",
   "pygments_lexer": "ipython3",
   "version": "3.7.6-final"
  },
  "orig_nbformat": 2,
  "kernelspec": {
   "name": "python37664bitb225f4bd86994289a4055ad484dc0491",
   "display_name": "Python 3.7.6 64-bit"
  }
 },
 "nbformat": 4,
 "nbformat_minor": 2
}